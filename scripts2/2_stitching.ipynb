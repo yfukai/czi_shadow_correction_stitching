{
 "cells": [
  {
   "cell_type": "code",
   "execution_count": null,
   "metadata": {},
   "outputs": [],
   "source": [
    "!pip install m2stitch"
   ]
  },
  {
   "cell_type": "code",
   "execution_count": 3,
   "metadata": {},
   "outputs": [],
   "source": [
    "from os import path\n",
    "from aicsimageio import AICSImage\n",
    "from matplotlib import pyplot as plt\n",
    "import basicpy\n",
    "import numpy as np\n",
    "from dask import array as da\n",
    "from tqdm import tqdm\n",
    "import os\n",
    "from skimage import transform, filters, morphology\n",
    "import yaml\n",
    "import m2stitch"
   ]
  },
  {
   "cell_type": "code",
   "execution_count": 2,
   "metadata": {},
   "outputs": [],
   "source": [
    "import sys\n",
    "sys.path.append(\"/mnt/showers/AxioObserver7/ImageData/Fukai/image_analysis/230203_timelapse\")"
   ]
  },
  {
   "cell_type": "code",
   "execution_count": 4,
   "metadata": {},
   "outputs": [],
   "source": [
    "basedir = \"/mnt/showers/AxioObserver7/ImageData/Fukai/2023-01-27-timelapse/\"\n",
    "workdir = \"/work/fukai/2023-01-27-timelapse/\"\n",
    "file_path_frames = [\n",
    "    (\"/mnt/showers/AxioObserver7/ImageData/Fukai/2023-01-27-timelapse/2023-02-03/230203-atRA-nolive-stage-staining.czi\",0),\n",
    "    (\"/mnt/showers/AxioObserver7/ImageData/Fukai/2023-01-27-timelapse/2023-02-03/230203-atRA-live-staining.czi\",0),\n",
    "    (\"/mnt/showers/AxioObserver7/ImageData/Fukai/2023-01-27-timelapse/2023-02-03/230203-atRA-nolive-staining.czi\",0),\n",
    "    (\"/mnt/showers/AxioObserver7/ImageData/Fukai/2023-01-27-timelapse/2023-02-03/230203-control-nolive-staining.czi\",0),\n",
    "    (\"/mnt/showers/AxioObserver7/ImageData/Fukai/2023-01-27-timelapse/2023-01-30/230130-atRA-live-2.czi/230130-atRA-live-2_AcquisitionBlock1.czi/230130-atRA-live-2_AcquisitionBlock1_pt1.czi\",100)\n",
    "]"
   ]
  },
  {
   "cell_type": "markdown",
   "metadata": {},
   "source": [
    "# Shading correction"
   ]
  },
  {
   "cell_type": "code",
   "execution_count": 17,
   "metadata": {},
   "outputs": [
    {
     "name": "stdout",
     "output_type": "stream",
     "text": [
      "[[0, 0, 0, 0, 0, 0, 1, 1, 1, 1, 1, 1, 1, 1, 2, 2, 2, 2, 2, 2, 2, 2, 2, 2, 3, 3, 3, 3, 3, 3, 3, 3, 3, 3, 4, 4, 4, 4, 4, 4, 4, 4, 4, 4, 5, 5, 5, 5, 5, 5, 5, 5, 5, 5, 6, 6, 6, 6, 6, 6, 6, 6, 6, 6, 7, 7, 7, 7, 7, 7, 7, 7, 7, 7, 8, 8, 8, 8, 8, 8, 8, 8, 9, 9, 9, 9, 9, 9], [2, 3, 4, 5, 6, 7, 8, 7, 6, 5, 4, 3, 2, 1, 0, 1, 2, 3, 4, 5, 6, 7, 8, 9, 9, 8, 7, 6, 5, 4, 3, 2, 1, 0, 0, 1, 2, 3, 4, 5, 6, 7, 8, 9, 9, 8, 7, 6, 5, 4, 3, 2, 1, 0, 0, 1, 2, 3, 4, 5, 6, 7, 8, 9, 9, 8, 7, 6, 5, 4, 3, 2, 1, 0, 1, 2, 3, 4, 5, 6, 7, 8, 7, 6, 5, 4, 3, 2]]\n"
     ]
    }
   ],
   "source": [
    "yposs = list(np.sort(np.unique(mosaic_positions[:,0])))\n",
    "xposs = list(np.sort(np.unique(mosaic_positions[:,1])))\n",
    "position_indices=[\n",
    "    [yposs.index(p) for p in mosaic_positions[:,0]],\n",
    "    [xposs.index(p) for p in mosaic_positions[:,1]],\n",
    "]\n",
    "print(position_indices)"
   ]
  },
  {
   "cell_type": "code",
   "execution_count": 12,
   "metadata": {},
   "outputs": [
    {
     "ename": "AssertionError",
     "evalue": "",
     "output_type": "error",
     "traceback": [
      "\u001b[0;31m---------------------------------------------------------------------------\u001b[0m",
      "\u001b[0;31mAssertionError\u001b[0m                            Traceback (most recent call last)",
      "Cell \u001b[0;32mIn [12], line 11\u001b[0m\n\u001b[1;32m      9\u001b[0m positionss \u001b[39m=\u001b[39m []\n\u001b[1;32m     10\u001b[0m \u001b[39mfor\u001b[39;00m c \u001b[39min\u001b[39;00m \u001b[39mrange\u001b[39m(image\u001b[39m.\u001b[39mshape[\u001b[39m0\u001b[39m]):\n\u001b[0;32m---> 11\u001b[0m     positions, _ \u001b[39m=\u001b[39m m2stitch\u001b[39m.\u001b[39;49mstitch_images(image[c,:,\u001b[39m0\u001b[39;49m],\n\u001b[1;32m     12\u001b[0m                                           position_initial_guess\u001b[39m=\u001b[39;49mmosaic_positions)\n\u001b[1;32m     13\u001b[0m     positionss\u001b[39m.\u001b[39mappend(positions)\n\u001b[1;32m     14\u001b[0m \u001b[39mbreak\u001b[39;00m\n",
      "File \u001b[0;32m~/.pyenv/versions/miniconda3-4.7.12/envs/image_analysis/lib/python3.9/site-packages/m2stitch/stitching.py:108\u001b[0m, in \u001b[0;36mstitch_images\u001b[0;34m(images, rows, cols, position_indices, position_initial_guess, overlap_diff_threshold, pou, full_output, row_col_transpose, ncc_threshold)\u001b[0m\n\u001b[1;32m     59\u001b[0m \u001b[39m\"\"\"Compute image positions for stitching.\u001b[39;00m\n\u001b[1;32m     60\u001b[0m \n\u001b[1;32m     61\u001b[0m \u001b[39mParameters\u001b[39;00m\n\u001b[0;32m   (...)\u001b[0m\n\u001b[1;32m    105\u001b[0m \u001b[39m    the dict of estimated parameters. (to be documented)\u001b[39;00m\n\u001b[1;32m    106\u001b[0m \u001b[39m\"\"\"\u001b[39;00m\n\u001b[1;32m    107\u001b[0m images \u001b[39m=\u001b[39m np\u001b[39m.\u001b[39marray(images)\n\u001b[0;32m--> 108\u001b[0m \u001b[39massert\u001b[39;00m (position_indices \u001b[39mis\u001b[39;00m \u001b[39mnot\u001b[39;00m \u001b[39mNone\u001b[39;00m) \u001b[39mor\u001b[39;00m (rows \u001b[39mis\u001b[39;00m \u001b[39mnot\u001b[39;00m \u001b[39mNone\u001b[39;00m \u001b[39mand\u001b[39;00m cols \u001b[39mis\u001b[39;00m \u001b[39mnot\u001b[39;00m \u001b[39mNone\u001b[39;00m)\n\u001b[1;32m    109\u001b[0m \u001b[39mif\u001b[39;00m position_indices \u001b[39mis\u001b[39;00m \u001b[39mNone\u001b[39;00m:\n\u001b[1;32m    110\u001b[0m     \u001b[39mif\u001b[39;00m row_col_transpose:\n",
      "\u001b[0;31mAssertionError\u001b[0m: "
     ]
    }
   ],
   "source": [
    "for file_path, frame in file_path_frames:\n",
    "    metadata_path = path.join(workdir,path.relpath(file_path,basedir)+\"_metadata.yaml\")\n",
    "    with open(metadata_path,\"r\") as f:\n",
    "        metadata=yaml.safe_load(f)\n",
    "        channel_names = metadata[\"channel_names\"]\n",
    "        mosaic_positions = np.array(metadata[\"mosaic_positions\"])\n",
    "    zarr_path = path.join(workdir,path.relpath(file_path,basedir)+\"_rescaled.zarr\")\n",
    "    image = da.from_zarr(zarr_path,component=\"image\")\n",
    "    positionss = []\n",
    "    for c in range(image.shape[0]):\n",
    "        positions, _ = m2stitch.stitch_images(image[c,:,0],\n",
    "                                              position_initial_guess=mosaic_positions)\n",
    "        positionss.append(positions)\n",
    "    break"
   ]
  },
  {
   "cell_type": "code",
   "execution_count": 7,
   "metadata": {},
   "outputs": [
    {
     "data": {
      "text/plain": [
       "(3, 44, 1, 2048, 2048)"
      ]
     },
     "execution_count": 7,
     "metadata": {},
     "output_type": "execute_result"
    }
   ],
   "source": [
    "image.shape"
   ]
  },
  {
   "cell_type": "code",
   "execution_count": null,
   "metadata": {},
   "outputs": [],
   "source": []
  }
 ],
 "metadata": {
  "kernelspec": {
   "display_name": "image_analysis",
   "language": "python",
   "name": "python3"
  },
  "language_info": {
   "codemirror_mode": {
    "name": "ipython",
    "version": 3
   },
   "file_extension": ".py",
   "mimetype": "text/x-python",
   "name": "python",
   "nbconvert_exporter": "python",
   "pygments_lexer": "ipython3",
   "version": "3.9.13"
  },
  "orig_nbformat": 4,
  "vscode": {
   "interpreter": {
    "hash": "83659bfb8f93f0cbf2e0416c0cf531c7cd10b5a1089d3340b57036eae6e6d262"
   }
  }
 },
 "nbformat": 4,
 "nbformat_minor": 2
}
