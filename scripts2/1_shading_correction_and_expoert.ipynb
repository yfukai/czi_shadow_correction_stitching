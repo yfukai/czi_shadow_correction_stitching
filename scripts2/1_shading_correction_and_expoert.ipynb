{
 "cells": [
  {
   "cell_type": "code",
   "execution_count": 1,
   "metadata": {},
   "outputs": [],
   "source": [
    "from os import path\n",
    "from aicsimageio import AICSImage\n",
    "from matplotlib import pyplot as plt\n",
    "import basicpy\n",
    "import numpy as np\n",
    "from dask import array as da\n",
    "from tqdm import tqdm\n",
    "import os\n",
    "from skimage import transform, filters, morphology\n",
    "import yaml"
   ]
  },
  {
   "cell_type": "code",
   "execution_count": 2,
   "metadata": {},
   "outputs": [],
   "source": [
    "import sys\n",
    "sys.path.append(\"/mnt/showers/AxioObserver7/ImageData/Fukai/image_analysis/230203_timelapse\")\n",
    "from a_output_metadata import output_metadata\n",
    "from b_basicpy_shading_correction import basicpy_shading_calculation, plot_shading_correction_result, correct_shading"
   ]
  },
  {
   "cell_type": "code",
   "execution_count": 3,
   "metadata": {},
   "outputs": [],
   "source": [
    "basedir = \"/mnt/showers/AxioObserver7/ImageData/Fukai/2023-01-27-timelapse/\"\n",
    "workdir = \"/work/fukai/2023-01-27-timelapse/\"\n",
    "file_path_frames = [\n",
    "    (\"/mnt/showers/AxioObserver7/ImageData/Fukai/2023-01-27-timelapse/2023-02-03/230203-atRA-nolive-stage-staining.czi\",0),\n",
    "    (\"/mnt/showers/AxioObserver7/ImageData/Fukai/2023-01-27-timelapse/2023-02-03/230203-atRA-live-staining.czi\",0),\n",
    "    (\"/mnt/showers/AxioObserver7/ImageData/Fukai/2023-01-27-timelapse/2023-02-03/230203-atRA-nolive-staining.czi\",0),\n",
    "    (\"/mnt/showers/AxioObserver7/ImageData/Fukai/2023-01-27-timelapse/2023-02-03/230203-control-nolive-staining.czi\",0),\n",
    "    (\"/mnt/showers/AxioObserver7/ImageData/Fukai/2023-01-27-timelapse/2023-01-30/230130-atRA-live-2.czi/230130-atRA-live-2_AcquisitionBlock1.czi/230130-atRA-live-2_AcquisitionBlock1_pt1.czi\",100)\n",
    "]"
   ]
  },
  {
   "cell_type": "code",
   "execution_count": 4,
   "metadata": {},
   "outputs": [],
   "source": [
    "for file_path, frame in file_path_frames:\n",
    "    assert path.isfile(file_path), f\"{file_path} is not a file\""
   ]
  },
  {
   "cell_type": "code",
   "execution_count": 10,
   "metadata": {},
   "outputs": [
    {
     "name": "stderr",
     "output_type": "stream",
     "text": [
      "100%|██████████| 1/1 [07:10<00:00, 430.03s/it]\n"
     ]
    }
   ],
   "source": [
    "for file_path, frame in tqdm(file_path_frames[-1:]):\n",
    "    metadata_path = path.join(workdir,path.relpath(file_path,basedir)+\"_metadata.yaml\")\n",
    "    os.makedirs(path.dirname(metadata_path),exist_ok=True)\n",
    "    output_metadata(file_path,metadata_path)"
   ]
  },
  {
   "cell_type": "code",
   "execution_count": 11,
   "metadata": {},
   "outputs": [
    {
     "data": {
      "text/plain": [
       "'/mnt/showers/AxioObserver7/ImageData/Fukai/2023-01-27-timelapse/2023-02-03/230203-atRA-nolive-stage-staining.czi'"
      ]
     },
     "execution_count": 11,
     "metadata": {},
     "output_type": "execute_result"
    }
   ],
   "source": [
    "file_path_frames[0][0]"
   ]
  },
  {
   "cell_type": "code",
   "execution_count": 5,
   "metadata": {},
   "outputs": [],
   "source": [
    "img = AICSImage(file_path_frames[0][0],reconstruct_mosaic=False)\n",
    "img_data=img.get_image_dask_data(\"CMZYX\",T=file_path_frames[0][1])"
   ]
  },
  {
   "cell_type": "code",
   "execution_count": 6,
   "metadata": {},
   "outputs": [],
   "source": [
    "mosaic_positions = [list(img.get_mosaic_tile_position(i)) for i in range(img.dims.M)]"
   ]
  },
  {
   "cell_type": "code",
   "execution_count": 8,
   "metadata": {},
   "outputs": [
    {
     "name": "stdout",
     "output_type": "stream",
     "text": [
      "\u001b[31mERROR: Could not find a version that satisfies the requirement aicslibczi (from versions: none)\u001b[0m\u001b[31m\n",
      "\u001b[0m\u001b[31mERROR: No matching distribution found for aicslibczi\u001b[0m\u001b[31m\n",
      "\u001b[0m"
     ]
    }
   ],
   "source": [
    "!pip install aicslibczi"
   ]
  },
  {
   "cell_type": "code",
   "execution_count": 9,
   "metadata": {},
   "outputs": [],
   "source": [
    "from aicspylibczi import CziFile\n",
    "with open(file_path_frames[0][0]) as f:\n",
    "    czi = CziFile(f)\n",
    "    bboxes = czi.get_all_mosaic_tile_bounding_boxes()\n",
    "    bbox = list(bboxes.values())\n",
    "mosic_positions = [(b.y, b.x) for b in bbox]"
   ]
  },
  {
   "cell_type": "code",
   "execution_count": 10,
   "metadata": {},
   "outputs": [
    {
     "data": {
      "text/plain": [
       "<Dimensions [M: 88, T: 1, C: 4, Z: 1, Y: 2048, X: 2048]>"
      ]
     },
     "execution_count": 10,
     "metadata": {},
     "output_type": "execute_result"
    }
   ],
   "source": [
    "img.dims"
   ]
  },
  {
   "cell_type": "code",
   "execution_count": null,
   "metadata": {},
   "outputs": [],
   "source": [
    "plt.imshow(img_data[-1,0,0])"
   ]
  },
  {
   "cell_type": "markdown",
   "metadata": {},
   "source": [
    "# Shading correction"
   ]
  },
  {
   "cell_type": "code",
   "execution_count": null,
   "metadata": {},
   "outputs": [],
   "source": [
    "for file_path, frame in file_path_frames:\n",
    "    metadata_path = path.join(workdir,path.relpath(file_path,basedir)+\"_metadata.yaml\")\n",
    "    with open(metadata_path,\"r\") as f:\n",
    "        channel_names = yaml.safe_load(f)[\"channel_names\"]\n",
    "    phase_channel = channel_names.index(\"Phase10x\")\n",
    "    \n",
    "    img = AICSImage(file_path,reconstruct_mosaic=False)\n",
    "    img_data = img.get_image_dask_data(\"CMZYX\",T=frame)\n",
    "    shading_fitting_results = basicpy_shading_calculation(img_data)\n",
    "    fig = plot_shading_correction_result(shading_fitting_results)\n",
    "    fig.show()\n",
    "    img_data_corrected = correct_shading(img_data,shading_fitting_results, local_subtraction_channels=[phase_channel])\n",
    "    img_data_corrected = img_data_corrected.rechunk((1,1,1,*img_data.shape[3:]))\n",
    "    plt.figure(figsize=(5,5))\n",
    "    plt.imshow(img_data_corrected[phase_channel,0,0])\n",
    "    plt.show()\n",
    "\n",
    "    zarr_path = path.join(workdir,path.relpath(file_path,basedir)+\"_rescaled.zarr\")\n",
    "    os.makedirs(path.dirname(zarr_path),exist_ok=True)\n",
    "    img_data_corrected.to_zarr(zarr_path)"
   ]
  },
  {
   "cell_type": "code",
   "execution_count": 5,
   "metadata": {},
   "outputs": [],
   "source": [
    "from aicspylibczi import CziFile"
   ]
  },
  {
   "cell_type": "code",
   "execution_count": 6,
   "metadata": {},
   "outputs": [],
   "source": [
    "input_czi = file_path_frames[3][0]\n",
    "with open(input_czi) as f:\n",
    "    czi = CziFile(f)\n",
    "    bboxes = czi.get_all_mosaic_tile_bounding_boxes()\n",
    "    bbox = list(bboxes.values())\n",
    "mosic_positions = [(b.y, b.x) for b in bbox]"
   ]
  },
  {
   "cell_type": "code",
   "execution_count": 7,
   "metadata": {},
   "outputs": [],
   "source": [
    "input_czi = file_path_frames[3][0]\n",
    "img = AICSImage(input_czi,reconstruct_mosaic=False)"
   ]
  },
  {
   "cell_type": "code",
   "execution_count": null,
   "metadata": {},
   "outputs": [],
   "source": [
    "mosaic_positions = [list(img.get_mosaic_tile_position(i)) \n",
    "                            for i in tqdm(range(img.dims.M))]"
   ]
  },
  {
   "cell_type": "code",
   "execution_count": null,
   "metadata": {},
   "outputs": [],
   "source": []
  }
 ],
 "metadata": {
  "kernelspec": {
   "display_name": "image_analysis",
   "language": "python",
   "name": "python3"
  },
  "language_info": {
   "codemirror_mode": {
    "name": "ipython",
    "version": 3
   },
   "file_extension": ".py",
   "mimetype": "text/x-python",
   "name": "python",
   "nbconvert_exporter": "python",
   "pygments_lexer": "ipython3",
   "version": "3.9.13"
  },
  "orig_nbformat": 4,
  "vscode": {
   "interpreter": {
    "hash": "83659bfb8f93f0cbf2e0416c0cf531c7cd10b5a1089d3340b57036eae6e6d262"
   }
  }
 },
 "nbformat": 4,
 "nbformat_minor": 2
}
